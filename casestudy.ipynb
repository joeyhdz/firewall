{
 "cells": [
  {
   "cell_type": "code",
   "execution_count": 1,
   "metadata": {},
   "outputs": [],
   "source": [
    "import pandas as pd\n",
    "import numpy as np\n",
    "import seaborn as sns\n",
    "import matplotlib.pyplot as plt"
   ]
  },
  {
   "cell_type": "code",
   "execution_count": 2,
   "metadata": {},
   "outputs": [],
   "source": [
    "df = pd.read_csv('log2.csv')"
   ]
  },
  {
   "cell_type": "code",
   "execution_count": 3,
   "metadata": {},
   "outputs": [
    {
     "data": {
      "text/plain": [
       "8362"
      ]
     },
     "execution_count": 3,
     "metadata": {},
     "output_type": "execute_result"
    }
   ],
   "source": [
    "df.duplicated().sum()"
   ]
  },
  {
   "cell_type": "code",
   "execution_count": 4,
   "metadata": {},
   "outputs": [
    {
     "data": {
      "text/plain": [
       "(65532, 12)"
      ]
     },
     "execution_count": 4,
     "metadata": {},
     "output_type": "execute_result"
    }
   ],
   "source": [
    "df.shape"
   ]
  },
  {
   "cell_type": "code",
   "execution_count": 5,
   "metadata": {},
   "outputs": [
    {
     "data": {
      "text/html": [
       "<div>\n",
       "<style scoped>\n",
       "    .dataframe tbody tr th:only-of-type {\n",
       "        vertical-align: middle;\n",
       "    }\n",
       "\n",
       "    .dataframe tbody tr th {\n",
       "        vertical-align: top;\n",
       "    }\n",
       "\n",
       "    .dataframe thead th {\n",
       "        text-align: right;\n",
       "    }\n",
       "</style>\n",
       "<table border=\"1\" class=\"dataframe\">\n",
       "  <thead>\n",
       "    <tr style=\"text-align: right;\">\n",
       "      <th></th>\n",
       "      <th>Source Port</th>\n",
       "      <th>Destination Port</th>\n",
       "      <th>NAT Source Port</th>\n",
       "      <th>NAT Destination Port</th>\n",
       "      <th>Action</th>\n",
       "      <th>Bytes</th>\n",
       "      <th>Bytes Sent</th>\n",
       "      <th>Bytes Received</th>\n",
       "      <th>Packets</th>\n",
       "      <th>Elapsed Time (sec)</th>\n",
       "      <th>pkts_sent</th>\n",
       "      <th>pkts_received</th>\n",
       "    </tr>\n",
       "  </thead>\n",
       "  <tbody>\n",
       "    <tr>\n",
       "      <th>0</th>\n",
       "      <td>57222</td>\n",
       "      <td>53</td>\n",
       "      <td>54587</td>\n",
       "      <td>53</td>\n",
       "      <td>allow</td>\n",
       "      <td>177</td>\n",
       "      <td>94</td>\n",
       "      <td>83</td>\n",
       "      <td>2</td>\n",
       "      <td>30</td>\n",
       "      <td>1</td>\n",
       "      <td>1</td>\n",
       "    </tr>\n",
       "    <tr>\n",
       "      <th>1</th>\n",
       "      <td>56258</td>\n",
       "      <td>3389</td>\n",
       "      <td>56258</td>\n",
       "      <td>3389</td>\n",
       "      <td>allow</td>\n",
       "      <td>4768</td>\n",
       "      <td>1600</td>\n",
       "      <td>3168</td>\n",
       "      <td>19</td>\n",
       "      <td>17</td>\n",
       "      <td>10</td>\n",
       "      <td>9</td>\n",
       "    </tr>\n",
       "    <tr>\n",
       "      <th>2</th>\n",
       "      <td>6881</td>\n",
       "      <td>50321</td>\n",
       "      <td>43265</td>\n",
       "      <td>50321</td>\n",
       "      <td>allow</td>\n",
       "      <td>238</td>\n",
       "      <td>118</td>\n",
       "      <td>120</td>\n",
       "      <td>2</td>\n",
       "      <td>1199</td>\n",
       "      <td>1</td>\n",
       "      <td>1</td>\n",
       "    </tr>\n",
       "    <tr>\n",
       "      <th>3</th>\n",
       "      <td>50553</td>\n",
       "      <td>3389</td>\n",
       "      <td>50553</td>\n",
       "      <td>3389</td>\n",
       "      <td>allow</td>\n",
       "      <td>3327</td>\n",
       "      <td>1438</td>\n",
       "      <td>1889</td>\n",
       "      <td>15</td>\n",
       "      <td>17</td>\n",
       "      <td>8</td>\n",
       "      <td>7</td>\n",
       "    </tr>\n",
       "    <tr>\n",
       "      <th>4</th>\n",
       "      <td>50002</td>\n",
       "      <td>443</td>\n",
       "      <td>45848</td>\n",
       "      <td>443</td>\n",
       "      <td>allow</td>\n",
       "      <td>25358</td>\n",
       "      <td>6778</td>\n",
       "      <td>18580</td>\n",
       "      <td>31</td>\n",
       "      <td>16</td>\n",
       "      <td>13</td>\n",
       "      <td>18</td>\n",
       "    </tr>\n",
       "  </tbody>\n",
       "</table>\n",
       "</div>"
      ],
      "text/plain": [
       "   Source Port  Destination Port  NAT Source Port  NAT Destination Port  \\\n",
       "0        57222                53            54587                    53   \n",
       "1        56258              3389            56258                  3389   \n",
       "2         6881             50321            43265                 50321   \n",
       "3        50553              3389            50553                  3389   \n",
       "4        50002               443            45848                   443   \n",
       "\n",
       "  Action  Bytes  Bytes Sent  Bytes Received  Packets  Elapsed Time (sec)  \\\n",
       "0  allow    177          94              83        2                  30   \n",
       "1  allow   4768        1600            3168       19                  17   \n",
       "2  allow    238         118             120        2                1199   \n",
       "3  allow   3327        1438            1889       15                  17   \n",
       "4  allow  25358        6778           18580       31                  16   \n",
       "\n",
       "   pkts_sent  pkts_received  \n",
       "0          1              1  \n",
       "1         10              9  \n",
       "2          1              1  \n",
       "3          8              7  \n",
       "4         13             18  "
      ]
     },
     "execution_count": 5,
     "metadata": {},
     "output_type": "execute_result"
    }
   ],
   "source": [
    "df.head()"
   ]
  },
  {
   "cell_type": "code",
   "execution_count": 6,
   "metadata": {},
   "outputs": [
    {
     "data": {
      "text/plain": [
       "Source Port             0\n",
       "Destination Port        0\n",
       "NAT Source Port         0\n",
       "NAT Destination Port    0\n",
       "Action                  0\n",
       "Bytes                   0\n",
       "Bytes Sent              0\n",
       "Bytes Received          0\n",
       "Packets                 0\n",
       "Elapsed Time (sec)      0\n",
       "pkts_sent               0\n",
       "pkts_received           0\n",
       "dtype: int64"
      ]
     },
     "execution_count": 6,
     "metadata": {},
     "output_type": "execute_result"
    }
   ],
   "source": [
    "df.isna().sum()"
   ]
  },
  {
   "cell_type": "markdown",
   "metadata": {},
   "source": [
    "# Change to categorical type features\n",
    "\n",
    "Source Port: bin into 3 categories well known, registerd, dynamic/private\n",
    "\n",
    "Destination Port\n",
    "\n",
    "NAT Source\n",
    "NAT Destination "
   ]
  },
  {
   "cell_type": "markdown",
   "metadata": {},
   "source": [
    "# Bin the columns into groups"
   ]
  },
  {
   "cell_type": "code",
   "execution_count": 7,
   "metadata": {},
   "outputs": [],
   "source": [
    "src_bins = [0,1023,49151,65535]\n",
    "labels = ['well-known','registered','dynamic/private']\n",
    "\n",
    "df['src_port_category'] = pd.cut(df['Source Port'], bins = src_bins,\n",
    "                                labels=labels, right = True, include_lowest=True)"
   ]
  },
  {
   "cell_type": "code",
   "execution_count": 8,
   "metadata": {},
   "outputs": [],
   "source": [
    "des_bins = [0,1023,49151,65535]\n",
    "labels = ['well-known','registered','dynamic/private']\n",
    "\n",
    "df['des_port_category'] = pd.cut(df['Destination Port'], bins = des_bins,\n",
    "                                 labels=labels, right = True, include_lowest=True)\n",
    "\n"
   ]
  },
  {
   "cell_type": "code",
   "execution_count": 9,
   "metadata": {},
   "outputs": [],
   "source": [
    "nat_src_bins = [0,1023,49151,65535]\n",
    "labels = ['well-known','registered','dynamic/private']\n",
    "\n",
    "df['nat_src_category'] = pd.cut(df['NAT Source Port'], bins = nat_src_bins,\n",
    "                                labels=labels,include_lowest=True,right=True)"
   ]
  },
  {
   "cell_type": "code",
   "execution_count": 10,
   "metadata": {},
   "outputs": [],
   "source": [
    "nat_des_bins = [0,1023,49151,65535]\n",
    "labels = ['well-known','registered','dynamic/private']\n",
    "\n",
    "df['nat_des_category'] = pd.cut(df['NAT Destination Port'], bins=nat_des_bins,\n",
    "                                labels= labels, include_lowest=True,right = True)"
   ]
  },
  {
   "cell_type": "markdown",
   "metadata": {},
   "source": [
    "# Drop the original columns"
   ]
  },
  {
   "cell_type": "code",
   "execution_count": 11,
   "metadata": {},
   "outputs": [],
   "source": [
    "df.drop(['Source Port','Destination Port',\n",
    "        'NAT Source Port','NAT Destination Port'], axis=1, inplace = True)"
   ]
  },
  {
   "cell_type": "markdown",
   "metadata": {},
   "source": [
    "# Look as target distribution"
   ]
  },
  {
   "cell_type": "code",
   "execution_count": 12,
   "metadata": {},
   "outputs": [
    {
     "data": {
      "image/png": "[encoded data removed]",
      "text/plain": [
       "<Figure size 640x480 with 1 Axes>"
      ]
     },
     "metadata": {},
     "output_type": "display_data"
    }
   ],
   "source": [
    "sns.countplot(data = df, x ='Action')\n",
    "plt.title('Classification Target Distribution')\n",
    "plt.xlabel('Target Label')\n",
    "plt.show()"
   ]
  },
  {
   "cell_type": "code",
   "execution_count": 13,
   "metadata": {},
   "outputs": [
    {
     "data": {
      "text/plain": [
       "allow         37640\n",
       "deny          14987\n",
       "drop          12851\n",
       "reset-both       54\n",
       "Name: Action, dtype: int64"
      ]
     },
     "execution_count": 13,
     "metadata": {},
     "output_type": "execute_result"
    }
   ],
   "source": [
    "df['Action'].value_counts()"
   ]
  },
  {
   "cell_type": "markdown",
   "metadata": {},
   "source": [
    "## Dummy Data"
   ]
  },
  {
   "cell_type": "code",
   "execution_count": 14,
   "metadata": {},
   "outputs": [],
   "source": [
    "dummy_list = ['src_port_category',\n",
    "            'des_port_category',\n",
    "            'nat_src_category',\n",
    "            'nat_des_category']\n",
    "\n",
    "for col in dummy_list:\n",
    "    dummies = pd.get_dummies(df[col],prefix=col, drop_first = True)\n",
    "    df = pd.concat([df,dummies],axis =1)\n",
    "\n",
    "df.drop(dummy_list,axis = 1, inplace=True)"
   ]
  },
  {
   "cell_type": "markdown",
   "metadata": {},
   "source": [
    "## Scaling Data"
   ]
  },
  {
   "cell_type": "code",
   "execution_count": 15,
   "metadata": {},
   "outputs": [],
   "source": [
    "from sklearn.preprocessing import StandardScaler\n",
    "\n",
    "columns_for_scaling = ['Bytes','Bytes Sent','Bytes Received',\n",
    "                    'Packets','Elapsed Time (sec)','pkts_sent','pkts_received']\n",
    "\n",
    "subset_data = df[columns_for_scaling]\n",
    "\n",
    "scaler = StandardScaler()\n",
    "scaled_data = scaler.fit_transform(subset_data)\n",
    "\n",
    "df[columns_for_scaling] = scaled_data"
   ]
  },
  {
   "cell_type": "markdown",
   "metadata": {},
   "source": [
    "<hr>\n",
    "\n",
    "# SVC\n",
    "\n",
    "<hr>"
   ]
  },
  {
   "cell_type": "markdown",
   "metadata": {},
   "source": [
    "## Train Test Split"
   ]
  },
  {
   "cell_type": "code",
   "execution_count": 16,
   "metadata": {},
   "outputs": [],
   "source": [
    "from sklearn.svm import LinearSVC\n",
    "from sklearn.model_selection import train_test_split\n",
    "\n",
    "X = df.drop('Action',axis=1)\n",
    "y = df['Action']\n",
    "\n",
    "X_train,X_test,y_train,y_test = train_test_split(X,y,\n",
    "                                                train_size = .8,\n",
    "                                                random_state=12,\n",
    "                                                stratify=y)"
   ]
  },
  {
   "cell_type": "code",
   "execution_count": 17,
   "metadata": {},
   "outputs": [
    {
     "name": "stdout",
     "output_type": "stream",
     "text": [
      "Fitting 5 folds for each of 60 candidates, totalling 300 fits\n"
     ]
    },
    {
     "data": {
      "text/html": [
       "<style>#sk-container-id-1 {color: black;background-color: white;}#sk-container-id-1 pre{padding: 0;}#sk-container-id-1 div.sk-toggleable {background-color: white;}#sk-container-id-1 label.sk-toggleable__label {cursor: pointer;display: block;width: 100%;margin-bottom: 0;padding: 0.3em;box-sizing: border-box;text-align: center;}#sk-container-id-1 label.sk-toggleable__label-arrow:before {content: \"▸\";float: left;margin-right: 0.25em;color: #696969;}#sk-container-id-1 label.sk-toggleable__label-arrow:hover:before {color: black;}#sk-container-id-1 div.sk-estimator:hover label.sk-toggleable__label-arrow:before {color: black;}#sk-container-id-1 div.sk-toggleable__content {max-height: 0;max-width: 0;overflow: hidden;text-align: left;background-color: #f0f8ff;}#sk-container-id-1 div.sk-toggleable__content pre {margin: 0.2em;color: black;border-radius: 0.25em;background-color: #f0f8ff;}#sk-container-id-1 input.sk-toggleable__control:checked~div.sk-toggleable__content {max-height: 200px;max-width: 100%;overflow: auto;}#sk-container-id-1 input.sk-toggleable__control:checked~label.sk-toggleable__label-arrow:before {content: \"▾\";}#sk-container-id-1 div.sk-estimator input.sk-toggleable__control:checked~label.sk-toggleable__label {background-color: #d4ebff;}#sk-container-id-1 div.sk-label input.sk-toggleable__control:checked~label.sk-toggleable__label {background-color: #d4ebff;}#sk-container-id-1 input.sk-hidden--visually {border: 0;clip: rect(1px 1px 1px 1px);clip: rect(1px, 1px, 1px, 1px);height: 1px;margin: -1px;overflow: hidden;padding: 0;position: absolute;width: 1px;}#sk-container-id-1 div.sk-estimator {font-family: monospace;background-color: #f0f8ff;border: 1px dotted black;border-radius: 0.25em;box-sizing: border-box;margin-bottom: 0.5em;}#sk-container-id-1 div.sk-estimator:hover {background-color: #d4ebff;}#sk-container-id-1 div.sk-parallel-item::after {content: \"\";width: 100%;border-bottom: 1px solid gray;flex-grow: 1;}#sk-container-id-1 div.sk-label:hover label.sk-toggleable__label {background-color: #d4ebff;}#sk-container-id-1 div.sk-serial::before {content: \"\";position: absolute;border-left: 1px solid gray;box-sizing: border-box;top: 0;bottom: 0;left: 50%;z-index: 0;}#sk-container-id-1 div.sk-serial {display: flex;flex-direction: column;align-items: center;background-color: white;padding-right: 0.2em;padding-left: 0.2em;position: relative;}#sk-container-id-1 div.sk-item {position: relative;z-index: 1;}#sk-container-id-1 div.sk-parallel {display: flex;align-items: stretch;justify-content: center;background-color: white;position: relative;}#sk-container-id-1 div.sk-item::before, #sk-container-id-1 div.sk-parallel-item::before {content: \"\";position: absolute;border-left: 1px solid gray;box-sizing: border-box;top: 0;bottom: 0;left: 50%;z-index: -1;}#sk-container-id-1 div.sk-parallel-item {display: flex;flex-direction: column;z-index: 1;position: relative;background-color: white;}#sk-container-id-1 div.sk-parallel-item:first-child::after {align-self: flex-end;width: 50%;}#sk-container-id-1 div.sk-parallel-item:last-child::after {align-self: flex-start;width: 50%;}#sk-container-id-1 div.sk-parallel-item:only-child::after {width: 0;}#sk-container-id-1 div.sk-dashed-wrapped {border: 1px dashed gray;margin: 0 0.4em 0.5em 0.4em;box-sizing: border-box;padding-bottom: 0.4em;background-color: white;}#sk-container-id-1 div.sk-label label {font-family: monospace;font-weight: bold;display: inline-block;line-height: 1.2em;}#sk-container-id-1 div.sk-label-container {text-align: center;}#sk-container-id-1 div.sk-container {/* jupyter's `normalize.less` sets `[hidden] { display: none; }` but bootstrap.min.css set `[hidden] { display: none !important; }` so we also need the `!important` here to be able to override the default hidden behavior on the sphinx rendered scikit-learn.org. See: https://github.com/scikit-learn/scikit-learn/issues/21755 */display: inline-block !important;position: relative;}#sk-container-id-1 div.sk-text-repr-fallback {display: none;}</style><div id=\"sk-container-id-1\" class=\"sk-top-container\"><div class=\"sk-text-repr-fallback\"><pre>RandomizedSearchCV(estimator=LinearSVC(class_weight=&#x27;balanced&#x27;, dual=False),\n",
       "                   n_iter=60, n_jobs=-1,\n",
       "                   param_distributions={&#x27;C&#x27;: array([1.00000000e-03, 1.01159111e-03, 1.02331658e-03, 1.03517796e-03,\n",
       "       1.04717682e-03, 1.05931476e-03, 1.07159340e-03, 1.08401436e-03,\n",
       "       1.09657929e-03, 1.10928986e-03, 1.12214777e-03, 1.13515471e-03,\n",
       "       1.14831241e-03, 1.16162263e-03, 1.17508713e-0...\n",
       "       7.67158118e+01, 7.76050334e+01, 7.85045620e+01, 7.94145172e+01,\n",
       "       8.03350198e+01, 8.12661920e+01, 8.22081576e+01, 8.31610415e+01,\n",
       "       8.41249705e+01, 8.51000725e+01, 8.60864770e+01, 8.70843150e+01,\n",
       "       8.80937190e+01, 8.91148232e+01, 9.01477631e+01, 9.11926760e+01,\n",
       "       9.22497005e+01, 9.33189772e+01, 9.44006479e+01, 9.54948564e+01,\n",
       "       9.66017480e+01, 9.77214697e+01, 9.88541702e+01, 1.00000000e+02])},\n",
       "                   random_state=12, verbose=1)</pre><b>In a Jupyter environment, please rerun this cell to show the HTML representation or trust the notebook. <br />On GitHub, the HTML representation is unable to render, please try loading this page with nbviewer.org.</b></div><div class=\"sk-container\" hidden><div class=\"sk-item sk-dashed-wrapped\"><div class=\"sk-label-container\"><div class=\"sk-label sk-toggleable\"><input class=\"sk-toggleable__control sk-hidden--visually\" id=\"sk-estimator-id-1\" type=\"checkbox\" ><label for=\"sk-estimator-id-1\" class=\"sk-toggleable__label sk-toggleable__label-arrow\">RandomizedSearchCV</label><div class=\"sk-toggleable__content\"><pre>RandomizedSearchCV(estimator=LinearSVC(class_weight=&#x27;balanced&#x27;, dual=False),\n",
       "                   n_iter=60, n_jobs=-1,\n",
       "                   param_distributions={&#x27;C&#x27;: array([1.00000000e-03, 1.01159111e-03, 1.02331658e-03, 1.03517796e-03,\n",
       "       1.04717682e-03, 1.05931476e-03, 1.07159340e-03, 1.08401436e-03,\n",
       "       1.09657929e-03, 1.10928986e-03, 1.12214777e-03, 1.13515471e-03,\n",
       "       1.14831241e-03, 1.16162263e-03, 1.17508713e-0...\n",
       "       7.67158118e+01, 7.76050334e+01, 7.85045620e+01, 7.94145172e+01,\n",
       "       8.03350198e+01, 8.12661920e+01, 8.22081576e+01, 8.31610415e+01,\n",
       "       8.41249705e+01, 8.51000725e+01, 8.60864770e+01, 8.70843150e+01,\n",
       "       8.80937190e+01, 8.91148232e+01, 9.01477631e+01, 9.11926760e+01,\n",
       "       9.22497005e+01, 9.33189772e+01, 9.44006479e+01, 9.54948564e+01,\n",
       "       9.66017480e+01, 9.77214697e+01, 9.88541702e+01, 1.00000000e+02])},\n",
       "                   random_state=12, verbose=1)</pre></div></div></div><div class=\"sk-parallel\"><div class=\"sk-parallel-item\"><div class=\"sk-item\"><div class=\"sk-label-container\"><div class=\"sk-label sk-toggleable\"><input class=\"sk-toggleable__control sk-hidden--visually\" id=\"sk-estimator-id-2\" type=\"checkbox\" ><label for=\"sk-estimator-id-2\" class=\"sk-toggleable__label sk-toggleable__label-arrow\">estimator: LinearSVC</label><div class=\"sk-toggleable__content\"><pre>LinearSVC(class_weight=&#x27;balanced&#x27;, dual=False)</pre></div></div></div><div class=\"sk-serial\"><div class=\"sk-item\"><div class=\"sk-estimator sk-toggleable\"><input class=\"sk-toggleable__control sk-hidden--visually\" id=\"sk-estimator-id-3\" type=\"checkbox\" ><label for=\"sk-estimator-id-3\" class=\"sk-toggleable__label sk-toggleable__label-arrow\">LinearSVC</label><div class=\"sk-toggleable__content\"><pre>LinearSVC(class_weight=&#x27;balanced&#x27;, dual=False)</pre></div></div></div></div></div></div></div></div></div></div>"
      ],
      "text/plain": [
       "RandomizedSearchCV(estimator=LinearSVC(class_weight='balanced', dual=False),\n",
       "                   n_iter=60, n_jobs=-1,\n",
       "                   param_distributions={'C': array([1.00000000e-03, 1.01159111e-03, 1.02331658e-03, 1.03517796e-03,\n",
       "       1.04717682e-03, 1.05931476e-03, 1.07159340e-03, 1.08401436e-03,\n",
       "       1.09657929e-03, 1.10928986e-03, 1.12214777e-03, 1.13515471e-03,\n",
       "       1.14831241e-03, 1.16162263e-03, 1.17508713e-0...\n",
       "       7.67158118e+01, 7.76050334e+01, 7.85045620e+01, 7.94145172e+01,\n",
       "       8.03350198e+01, 8.12661920e+01, 8.22081576e+01, 8.31610415e+01,\n",
       "       8.41249705e+01, 8.51000725e+01, 8.60864770e+01, 8.70843150e+01,\n",
       "       8.80937190e+01, 8.91148232e+01, 9.01477631e+01, 9.11926760e+01,\n",
       "       9.22497005e+01, 9.33189772e+01, 9.44006479e+01, 9.54948564e+01,\n",
       "       9.66017480e+01, 9.77214697e+01, 9.88541702e+01, 1.00000000e+02])},\n",
       "                   random_state=12, verbose=1)"
      ]
     },
     "execution_count": 17,
     "metadata": {},
     "output_type": "execute_result"
    }
   ],
   "source": [
    "from sklearn.model_selection import RandomizedSearchCV\n",
    "\n",
    "param_dist = {'C': np.logspace(-3,2,1000)}\n",
    "\n",
    "\n",
    "\n",
    "random_search = RandomizedSearchCV(LinearSVC(dual=False,class_weight='balanced'),\n",
    "                                param_distributions=param_dist,\n",
    "                                n_iter=60,\n",
    "                                cv=None,\n",
    "                                verbose=1,\n",
    "                                n_jobs=-1,\n",
    "                                random_state=12)\n",
    "\n",
    "random_search.fit(X_train,y_train)"
   ]
  },
  {
   "cell_type": "code",
   "execution_count": 18,
   "metadata": {},
   "outputs": [
    {
     "name": "stdout",
     "output_type": "stream",
     "text": [
      "Confusion Matrix:\n",
      "[[7511   17    0    0]\n",
      " [   6 2942   48    2]\n",
      " [   0    0 2570    0]\n",
      " [   0   10    0    1]]\n",
      "\n",
      "Classification Report:\n",
      "              precision    recall  f1-score   support\n",
      "\n",
      "       allow       1.00      1.00      1.00      7528\n",
      "        deny       0.99      0.98      0.99      2998\n",
      "        drop       0.98      1.00      0.99      2570\n",
      "  reset-both       0.33      0.09      0.14        11\n",
      "\n",
      "    accuracy                           0.99     13107\n",
      "   macro avg       0.83      0.77      0.78     13107\n",
      "weighted avg       0.99      0.99      0.99     13107\n",
      "\n"
     ]
    }
   ],
   "source": [
    "from sklearn.metrics import confusion_matrix, classification_report\n",
    "\n",
    "# Make predictions on the test data using the best estimator from RandomizedSearchCV\n",
    "y_pred = random_search.best_estimator_.predict(X_test)\n",
    "\n",
    "# Calculate the confusion matrix\n",
    "confusion_mat = confusion_matrix(y_test, y_pred)\n",
    "\n",
    "# Generate the classification report\n",
    "class_report = classification_report(y_test, y_pred)\n",
    "\n",
    "# Print the confusion matrix and classification report\n",
    "print(\"Confusion Matrix:\")\n",
    "print(confusion_mat)\n",
    "\n",
    "print(\"\\nClassification Report:\")\n",
    "print(class_report)\n"
   ]
  },
  {
   "cell_type": "code",
   "execution_count": 19,
   "metadata": {},
   "outputs": [
    {
     "data": {
      "image/png": "[encoded data removed]",
      "text/plain": [
       "<Figure size 1000x1000 with 2 Axes>"
      ]
     },
     "metadata": {},
     "output_type": "display_data"
    }
   ],
   "source": [
    "plt.figure(figsize=(10,10))\n",
    "sns.heatmap(confusion_mat,\n",
    "            cmap= 'mako',\n",
    "            annot=True,\n",
    "            fmt='.0f',\n",
    "            annot_kws={'size':12},\n",
    "            linecolor='white',\n",
    "            linewidths=.1,\n",
    "            )\n",
    "class_names = ['Allow','Deny','Drop','Reset-Both']\n",
    "tick_position = [.5,1.5,2.5,3.5]\n",
    "plt.xticks( ticks=tick_position,labels=class_names, rotation= 45)\n",
    "plt.yticks(ticks=tick_position, labels = class_names, rotation = 45)\n",
    "plt.title('Confusion Matrix for Action Classification')\n",
    "plt.xlabel('Prediction')\n",
    "plt.ylabel('Actual')\n",
    "plt.show()"
   ]
  },
  {
   "cell_type": "code",
   "execution_count": 20,
   "metadata": {},
   "outputs": [
    {
     "name": "stdout",
     "output_type": "stream",
     "text": [
      "Fitting 5 folds for each of 60 candidates, totalling 300 fits\n"
     ]
    },
    {
     "data": {
      "text/html": [
       "<style>#sk-container-id-2 {color: black;background-color: white;}#sk-container-id-2 pre{padding: 0;}#sk-container-id-2 div.sk-toggleable {background-color: white;}#sk-container-id-2 label.sk-toggleable__label {cursor: pointer;display: block;width: 100%;margin-bottom: 0;padding: 0.3em;box-sizing: border-box;text-align: center;}#sk-container-id-2 label.sk-toggleable__label-arrow:before {content: \"▸\";float: left;margin-right: 0.25em;color: #696969;}#sk-container-id-2 label.sk-toggleable__label-arrow:hover:before {color: black;}#sk-container-id-2 div.sk-estimator:hover label.sk-toggleable__label-arrow:before {color: black;}#sk-container-id-2 div.sk-toggleable__content {max-height: 0;max-width: 0;overflow: hidden;text-align: left;background-color: #f0f8ff;}#sk-container-id-2 div.sk-toggleable__content pre {margin: 0.2em;color: black;border-radius: 0.25em;background-color: #f0f8ff;}#sk-container-id-2 input.sk-toggleable__control:checked~div.sk-toggleable__content {max-height: 200px;max-width: 100%;overflow: auto;}#sk-container-id-2 input.sk-toggleable__control:checked~label.sk-toggleable__label-arrow:before {content: \"▾\";}#sk-container-id-2 div.sk-estimator input.sk-toggleable__control:checked~label.sk-toggleable__label {background-color: #d4ebff;}#sk-container-id-2 div.sk-label input.sk-toggleable__control:checked~label.sk-toggleable__label {background-color: #d4ebff;}#sk-container-id-2 input.sk-hidden--visually {border: 0;clip: rect(1px 1px 1px 1px);clip: rect(1px, 1px, 1px, 1px);height: 1px;margin: -1px;overflow: hidden;padding: 0;position: absolute;width: 1px;}#sk-container-id-2 div.sk-estimator {font-family: monospace;background-color: #f0f8ff;border: 1px dotted black;border-radius: 0.25em;box-sizing: border-box;margin-bottom: 0.5em;}#sk-container-id-2 div.sk-estimator:hover {background-color: #d4ebff;}#sk-container-id-2 div.sk-parallel-item::after {content: \"\";width: 100%;border-bottom: 1px solid gray;flex-grow: 1;}#sk-container-id-2 div.sk-label:hover label.sk-toggleable__label {background-color: #d4ebff;}#sk-container-id-2 div.sk-serial::before {content: \"\";position: absolute;border-left: 1px solid gray;box-sizing: border-box;top: 0;bottom: 0;left: 50%;z-index: 0;}#sk-container-id-2 div.sk-serial {display: flex;flex-direction: column;align-items: center;background-color: white;padding-right: 0.2em;padding-left: 0.2em;position: relative;}#sk-container-id-2 div.sk-item {position: relative;z-index: 1;}#sk-container-id-2 div.sk-parallel {display: flex;align-items: stretch;justify-content: center;background-color: white;position: relative;}#sk-container-id-2 div.sk-item::before, #sk-container-id-2 div.sk-parallel-item::before {content: \"\";position: absolute;border-left: 1px solid gray;box-sizing: border-box;top: 0;bottom: 0;left: 50%;z-index: -1;}#sk-container-id-2 div.sk-parallel-item {display: flex;flex-direction: column;z-index: 1;position: relative;background-color: white;}#sk-container-id-2 div.sk-parallel-item:first-child::after {align-self: flex-end;width: 50%;}#sk-container-id-2 div.sk-parallel-item:last-child::after {align-self: flex-start;width: 50%;}#sk-container-id-2 div.sk-parallel-item:only-child::after {width: 0;}#sk-container-id-2 div.sk-dashed-wrapped {border: 1px dashed gray;margin: 0 0.4em 0.5em 0.4em;box-sizing: border-box;padding-bottom: 0.4em;background-color: white;}#sk-container-id-2 div.sk-label label {font-family: monospace;font-weight: bold;display: inline-block;line-height: 1.2em;}#sk-container-id-2 div.sk-label-container {text-align: center;}#sk-container-id-2 div.sk-container {/* jupyter's `normalize.less` sets `[hidden] { display: none; }` but bootstrap.min.css set `[hidden] { display: none !important; }` so we also need the `!important` here to be able to override the default hidden behavior on the sphinx rendered scikit-learn.org. See: https://github.com/scikit-learn/scikit-learn/issues/21755 */display: inline-block !important;position: relative;}#sk-container-id-2 div.sk-text-repr-fallback {display: none;}</style><div id=\"sk-container-id-2\" class=\"sk-top-container\"><div class=\"sk-text-repr-fallback\"><pre>RandomizedSearchCV(estimator=LinearSVC(class_weight=&#x27;balanced&#x27;, dual=False),\n",
       "                   n_iter=60, n_jobs=-1,\n",
       "                   param_distributions={&#x27;C&#x27;: array([1.00000000e-03, 1.01159111e-03, 1.02331658e-03, 1.03517796e-03,\n",
       "       1.04717682e-03, 1.05931476e-03, 1.07159340e-03, 1.08401436e-03,\n",
       "       1.09657929e-03, 1.10928986e-03, 1.12214777e-03, 1.13515471e-03,\n",
       "       1.14831241e-03, 1.16162263e-03, 1.17508713e-0...\n",
       "       7.67158118e+01, 7.76050334e+01, 7.85045620e+01, 7.94145172e+01,\n",
       "       8.03350198e+01, 8.12661920e+01, 8.22081576e+01, 8.31610415e+01,\n",
       "       8.41249705e+01, 8.51000725e+01, 8.60864770e+01, 8.70843150e+01,\n",
       "       8.80937190e+01, 8.91148232e+01, 9.01477631e+01, 9.11926760e+01,\n",
       "       9.22497005e+01, 9.33189772e+01, 9.44006479e+01, 9.54948564e+01,\n",
       "       9.66017480e+01, 9.77214697e+01, 9.88541702e+01, 1.00000000e+02])},\n",
       "                   random_state=12, verbose=1)</pre><b>In a Jupyter environment, please rerun this cell to show the HTML representation or trust the notebook. <br />On GitHub, the HTML representation is unable to render, please try loading this page with nbviewer.org.</b></div><div class=\"sk-container\" hidden><div class=\"sk-item sk-dashed-wrapped\"><div class=\"sk-label-container\"><div class=\"sk-label sk-toggleable\"><input class=\"sk-toggleable__control sk-hidden--visually\" id=\"sk-estimator-id-4\" type=\"checkbox\" ><label for=\"sk-estimator-id-4\" class=\"sk-toggleable__label sk-toggleable__label-arrow\">RandomizedSearchCV</label><div class=\"sk-toggleable__content\"><pre>RandomizedSearchCV(estimator=LinearSVC(class_weight=&#x27;balanced&#x27;, dual=False),\n",
       "                   n_iter=60, n_jobs=-1,\n",
       "                   param_distributions={&#x27;C&#x27;: array([1.00000000e-03, 1.01159111e-03, 1.02331658e-03, 1.03517796e-03,\n",
       "       1.04717682e-03, 1.05931476e-03, 1.07159340e-03, 1.08401436e-03,\n",
       "       1.09657929e-03, 1.10928986e-03, 1.12214777e-03, 1.13515471e-03,\n",
       "       1.14831241e-03, 1.16162263e-03, 1.17508713e-0...\n",
       "       7.67158118e+01, 7.76050334e+01, 7.85045620e+01, 7.94145172e+01,\n",
       "       8.03350198e+01, 8.12661920e+01, 8.22081576e+01, 8.31610415e+01,\n",
       "       8.41249705e+01, 8.51000725e+01, 8.60864770e+01, 8.70843150e+01,\n",
       "       8.80937190e+01, 8.91148232e+01, 9.01477631e+01, 9.11926760e+01,\n",
       "       9.22497005e+01, 9.33189772e+01, 9.44006479e+01, 9.54948564e+01,\n",
       "       9.66017480e+01, 9.77214697e+01, 9.88541702e+01, 1.00000000e+02])},\n",
       "                   random_state=12, verbose=1)</pre></div></div></div><div class=\"sk-parallel\"><div class=\"sk-parallel-item\"><div class=\"sk-item\"><div class=\"sk-label-container\"><div class=\"sk-label sk-toggleable\"><input class=\"sk-toggleable__control sk-hidden--visually\" id=\"sk-estimator-id-5\" type=\"checkbox\" ><label for=\"sk-estimator-id-5\" class=\"sk-toggleable__label sk-toggleable__label-arrow\">estimator: LinearSVC</label><div class=\"sk-toggleable__content\"><pre>LinearSVC(class_weight=&#x27;balanced&#x27;, dual=False)</pre></div></div></div><div class=\"sk-serial\"><div class=\"sk-item\"><div class=\"sk-estimator sk-toggleable\"><input class=\"sk-toggleable__control sk-hidden--visually\" id=\"sk-estimator-id-6\" type=\"checkbox\" ><label for=\"sk-estimator-id-6\" class=\"sk-toggleable__label sk-toggleable__label-arrow\">LinearSVC</label><div class=\"sk-toggleable__content\"><pre>LinearSVC(class_weight=&#x27;balanced&#x27;, dual=False)</pre></div></div></div></div></div></div></div></div></div></div>"
      ],
      "text/plain": [
       "RandomizedSearchCV(estimator=LinearSVC(class_weight='balanced', dual=False),\n",
       "                   n_iter=60, n_jobs=-1,\n",
       "                   param_distributions={'C': array([1.00000000e-03, 1.01159111e-03, 1.02331658e-03, 1.03517796e-03,\n",
       "       1.04717682e-03, 1.05931476e-03, 1.07159340e-03, 1.08401436e-03,\n",
       "       1.09657929e-03, 1.10928986e-03, 1.12214777e-03, 1.13515471e-03,\n",
       "       1.14831241e-03, 1.16162263e-03, 1.17508713e-0...\n",
       "       7.67158118e+01, 7.76050334e+01, 7.85045620e+01, 7.94145172e+01,\n",
       "       8.03350198e+01, 8.12661920e+01, 8.22081576e+01, 8.31610415e+01,\n",
       "       8.41249705e+01, 8.51000725e+01, 8.60864770e+01, 8.70843150e+01,\n",
       "       8.80937190e+01, 8.91148232e+01, 9.01477631e+01, 9.11926760e+01,\n",
       "       9.22497005e+01, 9.33189772e+01, 9.44006479e+01, 9.54948564e+01,\n",
       "       9.66017480e+01, 9.77214697e+01, 9.88541702e+01, 1.00000000e+02])},\n",
       "                   random_state=12, verbose=1)"
      ]
     },
     "execution_count": 20,
     "metadata": {},
     "output_type": "execute_result"
    }
   ],
   "source": [
    "from sklearn.model_selection import RandomizedSearchCV\n",
    "\n",
    "param_dist = {'C': np.logspace(-3,2,1000)}\n",
    "\n",
    "random_search = RandomizedSearchCV(LinearSVC(dual=False, class_weight='balanced'),\n",
    "                                param_distributions=param_dist,\n",
    "                                n_iter=60,\n",
    "                                cv=None,\n",
    "                                verbose=1,\n",
    "                                n_jobs=-1,\n",
    "                                random_state=12)\n",
    "\n",
    "random_search.fit(X,y)"
   ]
  },
  {
   "cell_type": "code",
   "execution_count": 21,
   "metadata": {},
   "outputs": [
    {
     "name": "stdout",
     "output_type": "stream",
     "text": [
      "Confusion Matrix:\n",
      "[[37541    95     2     2]\n",
      " [    8 14712   263     4]\n",
      " [    0     0 12851     0]\n",
      " [    0    42     0    12]]\n",
      "\n",
      "Classification Report:\n",
      "              precision    recall  f1-score   support\n",
      "\n",
      "       allow       1.00      1.00      1.00     37640\n",
      "        deny       0.99      0.98      0.99     14987\n",
      "        drop       0.98      1.00      0.99     12851\n",
      "  reset-both       0.67      0.22      0.33        54\n",
      "\n",
      "    accuracy                           0.99     65532\n",
      "   macro avg       0.91      0.80      0.83     65532\n",
      "weighted avg       0.99      0.99      0.99     65532\n",
      "\n"
     ]
    }
   ],
   "source": [
    "from sklearn.metrics import confusion_matrix, classification_report\n",
    "\n",
    "# Make predictions on the test data using the best estimator from RandomizedSearchCV\n",
    "y_pred = random_search.best_estimator_.predict(X)\n",
    "\n",
    "# Calculate the confusion matrix\n",
    "confusion_mat = confusion_matrix(y, y_pred)\n",
    "\n",
    "# Generate the classification report\n",
    "class_report = classification_report(y, y_pred)\n",
    "\n",
    "# Print the confusion matrix and classification report\n",
    "print(\"Confusion Matrix:\")\n",
    "print(confusion_mat)\n",
    "\n",
    "print(\"\\nClassification Report:\")\n",
    "print(class_report)\n"
   ]
  },
  {
   "cell_type": "markdown",
   "metadata": {},
   "source": [
    "<hr>\n",
    "\n",
    "# Part 2 - Stochastic Gradient Descent\n",
    "\n",
    "<hr>"
   ]
  },
  {
   "cell_type": "code",
   "execution_count": 29,
   "metadata": {},
   "outputs": [
    {
     "name": "stdout",
     "output_type": "stream",
     "text": [
      "Fitting 5 folds for each of 60 candidates, totalling 300 fits\n"
     ]
    },
    {
     "data": {
      "text/html": [
       "<style>#sk-container-id-5 {color: black;background-color: white;}#sk-container-id-5 pre{padding: 0;}#sk-container-id-5 div.sk-toggleable {background-color: white;}#sk-container-id-5 label.sk-toggleable__label {cursor: pointer;display: block;width: 100%;margin-bottom: 0;padding: 0.3em;box-sizing: border-box;text-align: center;}#sk-container-id-5 label.sk-toggleable__label-arrow:before {content: \"▸\";float: left;margin-right: 0.25em;color: #696969;}#sk-container-id-5 label.sk-toggleable__label-arrow:hover:before {color: black;}#sk-container-id-5 div.sk-estimator:hover label.sk-toggleable__label-arrow:before {color: black;}#sk-container-id-5 div.sk-toggleable__content {max-height: 0;max-width: 0;overflow: hidden;text-align: left;background-color: #f0f8ff;}#sk-container-id-5 div.sk-toggleable__content pre {margin: 0.2em;color: black;border-radius: 0.25em;background-color: #f0f8ff;}#sk-container-id-5 input.sk-toggleable__control:checked~div.sk-toggleable__content {max-height: 200px;max-width: 100%;overflow: auto;}#sk-container-id-5 input.sk-toggleable__control:checked~label.sk-toggleable__label-arrow:before {content: \"▾\";}#sk-container-id-5 div.sk-estimator input.sk-toggleable__control:checked~label.sk-toggleable__label {background-color: #d4ebff;}#sk-container-id-5 div.sk-label input.sk-toggleable__control:checked~label.sk-toggleable__label {background-color: #d4ebff;}#sk-container-id-5 input.sk-hidden--visually {border: 0;clip: rect(1px 1px 1px 1px);clip: rect(1px, 1px, 1px, 1px);height: 1px;margin: -1px;overflow: hidden;padding: 0;position: absolute;width: 1px;}#sk-container-id-5 div.sk-estimator {font-family: monospace;background-color: #f0f8ff;border: 1px dotted black;border-radius: 0.25em;box-sizing: border-box;margin-bottom: 0.5em;}#sk-container-id-5 div.sk-estimator:hover {background-color: #d4ebff;}#sk-container-id-5 div.sk-parallel-item::after {content: \"\";width: 100%;border-bottom: 1px solid gray;flex-grow: 1;}#sk-container-id-5 div.sk-label:hover label.sk-toggleable__label {background-color: #d4ebff;}#sk-container-id-5 div.sk-serial::before {content: \"\";position: absolute;border-left: 1px solid gray;box-sizing: border-box;top: 0;bottom: 0;left: 50%;z-index: 0;}#sk-container-id-5 div.sk-serial {display: flex;flex-direction: column;align-items: center;background-color: white;padding-right: 0.2em;padding-left: 0.2em;position: relative;}#sk-container-id-5 div.sk-item {position: relative;z-index: 1;}#sk-container-id-5 div.sk-parallel {display: flex;align-items: stretch;justify-content: center;background-color: white;position: relative;}#sk-container-id-5 div.sk-item::before, #sk-container-id-5 div.sk-parallel-item::before {content: \"\";position: absolute;border-left: 1px solid gray;box-sizing: border-box;top: 0;bottom: 0;left: 50%;z-index: -1;}#sk-container-id-5 div.sk-parallel-item {display: flex;flex-direction: column;z-index: 1;position: relative;background-color: white;}#sk-container-id-5 div.sk-parallel-item:first-child::after {align-self: flex-end;width: 50%;}#sk-container-id-5 div.sk-parallel-item:last-child::after {align-self: flex-start;width: 50%;}#sk-container-id-5 div.sk-parallel-item:only-child::after {width: 0;}#sk-container-id-5 div.sk-dashed-wrapped {border: 1px dashed gray;margin: 0 0.4em 0.5em 0.4em;box-sizing: border-box;padding-bottom: 0.4em;background-color: white;}#sk-container-id-5 div.sk-label label {font-family: monospace;font-weight: bold;display: inline-block;line-height: 1.2em;}#sk-container-id-5 div.sk-label-container {text-align: center;}#sk-container-id-5 div.sk-container {/* jupyter's `normalize.less` sets `[hidden] { display: none; }` but bootstrap.min.css set `[hidden] { display: none !important; }` so we also need the `!important` here to be able to override the default hidden behavior on the sphinx rendered scikit-learn.org. See: https://github.com/scikit-learn/scikit-learn/issues/21755 */display: inline-block !important;position: relative;}#sk-container-id-5 div.sk-text-repr-fallback {display: none;}</style><div id=\"sk-container-id-5\" class=\"sk-top-container\"><div class=\"sk-text-repr-fallback\"><pre>RandomizedSearchCV(cv=5,\n",
       "                   estimator=SGDClassifier(class_weight=&#x27;balanced&#x27;,\n",
       "                                           early_stopping=True,\n",
       "                                           loss=&#x27;log_loss&#x27;),\n",
       "                   n_iter=60, n_jobs=-1,\n",
       "                   param_distributions={&#x27;alpha&#x27;: array([  1.        ,   1.00462042,   1.00926219,   1.01392541,\n",
       "         1.01861017,   1.02331658,   1.02804473,   1.03279473,\n",
       "         1.03756668,   1.04236067,   1.04717682,   1.05201522,\n",
       "         1.05687597,   1.06175918,   1.06666496,   1.0715934 ,\n",
       "         1.07654461,   1.08151...\n",
       "        88.29699955,  88.7049689 ,  89.11482323,  89.52657126,\n",
       "        89.94022174,  90.35578346,  90.77326525,  91.19267598,\n",
       "        91.61402457,  92.03731997,  92.46257116,  92.8897872 ,\n",
       "        93.31897716,  93.75015015,  94.18331535,  94.61848195,\n",
       "        95.0556592 ,  95.4948564 ,  95.93608287,  96.379348  ,\n",
       "        96.82466119,  97.27203192,  97.7214697 ,  98.17298406,\n",
       "        98.62658461,  99.08228099,  99.54008288, 100.        ])},\n",
       "                   random_state=12, verbose=1)</pre><b>In a Jupyter environment, please rerun this cell to show the HTML representation or trust the notebook. <br />On GitHub, the HTML representation is unable to render, please try loading this page with nbviewer.org.</b></div><div class=\"sk-container\" hidden><div class=\"sk-item sk-dashed-wrapped\"><div class=\"sk-label-container\"><div class=\"sk-label sk-toggleable\"><input class=\"sk-toggleable__control sk-hidden--visually\" id=\"sk-estimator-id-13\" type=\"checkbox\" ><label for=\"sk-estimator-id-13\" class=\"sk-toggleable__label sk-toggleable__label-arrow\">RandomizedSearchCV</label><div class=\"sk-toggleable__content\"><pre>RandomizedSearchCV(cv=5,\n",
       "                   estimator=SGDClassifier(class_weight=&#x27;balanced&#x27;,\n",
       "                                           early_stopping=True,\n",
       "                                           loss=&#x27;log_loss&#x27;),\n",
       "                   n_iter=60, n_jobs=-1,\n",
       "                   param_distributions={&#x27;alpha&#x27;: array([  1.        ,   1.00462042,   1.00926219,   1.01392541,\n",
       "         1.01861017,   1.02331658,   1.02804473,   1.03279473,\n",
       "         1.03756668,   1.04236067,   1.04717682,   1.05201522,\n",
       "         1.05687597,   1.06175918,   1.06666496,   1.0715934 ,\n",
       "         1.07654461,   1.08151...\n",
       "        88.29699955,  88.7049689 ,  89.11482323,  89.52657126,\n",
       "        89.94022174,  90.35578346,  90.77326525,  91.19267598,\n",
       "        91.61402457,  92.03731997,  92.46257116,  92.8897872 ,\n",
       "        93.31897716,  93.75015015,  94.18331535,  94.61848195,\n",
       "        95.0556592 ,  95.4948564 ,  95.93608287,  96.379348  ,\n",
       "        96.82466119,  97.27203192,  97.7214697 ,  98.17298406,\n",
       "        98.62658461,  99.08228099,  99.54008288, 100.        ])},\n",
       "                   random_state=12, verbose=1)</pre></div></div></div><div class=\"sk-parallel\"><div class=\"sk-parallel-item\"><div class=\"sk-item\"><div class=\"sk-label-container\"><div class=\"sk-label sk-toggleable\"><input class=\"sk-toggleable__control sk-hidden--visually\" id=\"sk-estimator-id-14\" type=\"checkbox\" ><label for=\"sk-estimator-id-14\" class=\"sk-toggleable__label sk-toggleable__label-arrow\">estimator: SGDClassifier</label><div class=\"sk-toggleable__content\"><pre>SGDClassifier(class_weight=&#x27;balanced&#x27;, early_stopping=True, loss=&#x27;log_loss&#x27;)</pre></div></div></div><div class=\"sk-serial\"><div class=\"sk-item\"><div class=\"sk-estimator sk-toggleable\"><input class=\"sk-toggleable__control sk-hidden--visually\" id=\"sk-estimator-id-15\" type=\"checkbox\" ><label for=\"sk-estimator-id-15\" class=\"sk-toggleable__label sk-toggleable__label-arrow\">SGDClassifier</label><div class=\"sk-toggleable__content\"><pre>SGDClassifier(class_weight=&#x27;balanced&#x27;, early_stopping=True, loss=&#x27;log_loss&#x27;)</pre></div></div></div></div></div></div></div></div></div></div>"
      ],
      "text/plain": [
       "RandomizedSearchCV(cv=5,\n",
       "                   estimator=SGDClassifier(class_weight='balanced',\n",
       "                                           early_stopping=True,\n",
       "                                           loss='log_loss'),\n",
       "                   n_iter=60, n_jobs=-1,\n",
       "                   param_distributions={'alpha': array([  1.        ,   1.00462042,   1.00926219,   1.01392541,\n",
       "         1.01861017,   1.02331658,   1.02804473,   1.03279473,\n",
       "         1.03756668,   1.04236067,   1.04717682,   1.05201522,\n",
       "         1.05687597,   1.06175918,   1.06666496,   1.0715934 ,\n",
       "         1.07654461,   1.08151...\n",
       "        88.29699955,  88.7049689 ,  89.11482323,  89.52657126,\n",
       "        89.94022174,  90.35578346,  90.77326525,  91.19267598,\n",
       "        91.61402457,  92.03731997,  92.46257116,  92.8897872 ,\n",
       "        93.31897716,  93.75015015,  94.18331535,  94.61848195,\n",
       "        95.0556592 ,  95.4948564 ,  95.93608287,  96.379348  ,\n",
       "        96.82466119,  97.27203192,  97.7214697 ,  98.17298406,\n",
       "        98.62658461,  99.08228099,  99.54008288, 100.        ])},\n",
       "                   random_state=12, verbose=1)"
      ]
     },
     "execution_count": 29,
     "metadata": {},
     "output_type": "execute_result"
    }
   ],
   "source": [
    "from sklearn.model_selection import RandomizedSearchCV\n",
    "from sklearn.linear_model import SGDClassifier\n",
    "\n",
    "param_dist = {'alpha': np.logspace(0,2,1000)}\n",
    "\n",
    "random_search = RandomizedSearchCV(SGDClassifier(class_weight='balanced', loss='log_loss', penalty='l2', early_stopping=True),\n",
    "                                param_distributions=param_dist,\n",
    "                                n_iter=60,\n",
    "                                cv=5,\n",
    "                                verbose=1,\n",
    "                                n_jobs=-1,\n",
    "                                random_state=12)\n",
    "\n",
    "random_search.fit(X_train,y_train)"
   ]
  },
  {
   "cell_type": "code",
   "execution_count": 30,
   "metadata": {},
   "outputs": [
    {
     "name": "stdout",
     "output_type": "stream",
     "text": [
      "Confusion Matrix:\n",
      "[[7528    0    0    0]\n",
      " [2998    0    0    0]\n",
      " [2570    0    0    0]\n",
      " [  11    0    0    0]]\n",
      "\n",
      "Classification Report:\n",
      "              precision    recall  f1-score   support\n",
      "\n",
      "       allow       0.57      1.00      0.73      7528\n",
      "        deny       0.00      0.00      0.00      2998\n",
      "        drop       0.00      0.00      0.00      2570\n",
      "  reset-both       0.00      0.00      0.00        11\n",
      "\n",
      "    accuracy                           0.57     13107\n",
      "   macro avg       0.14      0.25      0.18     13107\n",
      "weighted avg       0.33      0.57      0.42     13107\n",
      "\n"
     ]
    },
    {
     "name": "stderr",
     "output_type": "stream",
     "text": [
      "c:\\Users\\Joey\\anaconda3\\envs\\ML\\lib\\site-packages\\sklearn\\metrics\\_classification.py:1344: UndefinedMetricWarning: Precision and F-score are ill-defined and being set to 0.0 in labels with no predicted samples. Use `zero_division` parameter to control this behavior.\n",
      "  _warn_prf(average, modifier, msg_start, len(result))\n",
      "c:\\Users\\Joey\\anaconda3\\envs\\ML\\lib\\site-packages\\sklearn\\metrics\\_classification.py:1344: UndefinedMetricWarning: Precision and F-score are ill-defined and being set to 0.0 in labels with no predicted samples. Use `zero_division` parameter to control this behavior.\n",
      "  _warn_prf(average, modifier, msg_start, len(result))\n",
      "c:\\Users\\Joey\\anaconda3\\envs\\ML\\lib\\site-packages\\sklearn\\metrics\\_classification.py:1344: UndefinedMetricWarning: Precision and F-score are ill-defined and being set to 0.0 in labels with no predicted samples. Use `zero_division` parameter to control this behavior.\n",
      "  _warn_prf(average, modifier, msg_start, len(result))\n"
     ]
    }
   ],
   "source": [
    "from sklearn.metrics import confusion_matrix, classification_report\n",
    "\n",
    "# Make predictions on the test data using the best estimator from RandomizedSearchCV\n",
    "y_pred = random_search.best_estimator_.predict(X_test)\n",
    "\n",
    "# Calculate the confusion matrix\n",
    "confusion_mat = confusion_matrix(y_test, y_pred)\n",
    "\n",
    "# Generate the classification report\n",
    "class_report = classification_report(y_test, y_pred)\n",
    "\n",
    "# Print the confusion matrix and classification report\n",
    "print(\"Confusion Matrix:\")\n",
    "print(confusion_mat)\n",
    "\n",
    "print(\"\\nClassification Report:\")\n",
    "print(class_report)"
   ]
  },
  {
   "cell_type": "code",
   "execution_count": 31,
   "metadata": {},
   "outputs": [
    {
     "data": {
      "image/png": "[encoded data removed]",
      "text/plain": [
       "<Figure size 1000x1000 with 2 Axes>"
      ]
     },
     "metadata": {},
     "output_type": "display_data"
    }
   ],
   "source": [
    "plt.figure(figsize=(10,10))\n",
    "sns.heatmap(confusion_mat,\n",
    "            cmap= 'mako',\n",
    "            annot=True,\n",
    "            fmt='.0f',\n",
    "            annot_kws={'size':12},\n",
    "            linecolor='white',\n",
    "            linewidths=.1,\n",
    "            )\n",
    "class_names = ['Allow','Deny','Drop','Reset-Both']\n",
    "tick_position = [.5,1.5,2.5,3.5]\n",
    "plt.xticks( ticks=tick_position,labels=class_names, rotation= 45)\n",
    "plt.yticks(ticks=tick_position, labels = class_names, rotation = 45)\n",
    "plt.title('Confusion Matrix for Action Classification')\n",
    "plt.xlabel('Prediction')\n",
    "plt.ylabel('Actual')\n",
    "plt.show()"
   ]
  }
 ],
 "metadata": {
  "kernelspec": {
   "display_name": "ML",
   "language": "python",
   "name": "python3"
  },
  "language_info": {
   "codemirror_mode": {
    "name": "ipython",
    "version": 3
   },
   "file_extension": ".py",
   "mimetype": "text/x-python",
   "name": "python",
   "nbconvert_exporter": "python",
   "pygments_lexer": "ipython3",
   "version": "3.9.16"
  }
 },
 "nbformat": 4,
 "nbformat_minor": 2
}
